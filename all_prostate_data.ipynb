{
 "cells": [
  {
   "cell_type": "code",
   "execution_count": 1,
   "id": "1d8a6208",
   "metadata": {},
   "outputs": [],
   "source": [
    "from monai import transforms as T\n",
    "from glob import glob\n",
    "import os\n",
    "import numpy as np\n",
    "import torch\n",
    "from monai.transforms import LoadImage\n",
    "from collections import Counter\n",
    "from monai.data import ITKReader\n",
    "\n",
    "image_dir = \"/cluster/projects/vc/data/mic/open/Prostate/PI-CAI-V2.0/images\"\n",
    "label_dir = \"/cluster/projects/vc/data/mic/open/Prostate/PI-CAI-V2.0/picai_labels/csPCa_lesion_delineations/human_expert/resampled\"\n",
    "\n"
   ]
  },
  {
   "cell_type": "code",
   "execution_count": 2,
   "id": "4a6cac1e",
   "metadata": {},
   "outputs": [],
   "source": [
    "class ConvertToBinaryLabeld(T.MapTransform):\n",
    "    def __call__(self, data):\n",
    "        d = dict(data)\n",
    "        for key in self.keys:\n",
    "            if key in data:\n",
    "                label = d[key]  # Extract label tensor\n",
    "                \n",
    "                # Convert to binary: 0 for ISUP ≤1, 1 for ISUP ≥2\n",
    "                d[key] = (label >= 1).float()\n",
    "                \n",
    "        return d"
   ]
  },
  {
   "cell_type": "code",
   "execution_count": 3,
   "id": "4bf053ca",
   "metadata": {},
   "outputs": [],
   "source": [
    "patient_folders = sorted(glob(os.path.join(image_dir, \"*\")))\n",
    "patient_ids = [os.path.basename(folder) for folder in patient_folders]\n",
    "\n",
    "empty = np.zeros((1024, 1024, 1024))\n",
    "\n",
    "data = []\n",
    "for patient_id in patient_ids:\n",
    "    \n",
    "    patient_folder = os.path.join(image_dir, patient_id)\n",
    "    label_path = glob(os.path.join(label_dir, f\"{patient_id}_*.nii.gz\"))\n",
    "    t2w_path = glob(os.path.join(patient_folder, \"*_t2w.mha\"))\n",
    "    adc_path = glob(os.path.join(patient_folder, \"*_adc.mha\"))\n",
    "    hbv_path = glob(os.path.join(patient_folder, \"*_hbv.mha\"))\n",
    "\n",
    "    data_entry = {}\n",
    "    \n",
    "    \n",
    "    if t2w_path and adc_path and hbv_path:  \n",
    "        data_entry = {\n",
    "            \"t2w\" : t2w_path,\n",
    "            \"adc\" : adc_path,\n",
    "            \"hbv\" : hbv_path\n",
    "        }\n",
    "        \n",
    "        if label_path:\n",
    "            data_entry[\"label\"] = label_path[0]\n",
    "        else:\n",
    "            data_entry[\"label\"] = empty\n",
    " \n",
    "        data.append(data_entry)\n",
    "        \n",
    "    "
   ]
  },
  {
   "cell_type": "code",
   "execution_count": 4,
   "id": "1daf4514",
   "metadata": {},
   "outputs": [
    {
     "data": {
      "text/plain": [
       "1475"
      ]
     },
     "execution_count": 4,
     "metadata": {},
     "output_type": "execute_result"
    }
   ],
   "source": [
    "len(data)"
   ]
  },
  {
   "cell_type": "code",
   "execution_count": 5,
   "id": "03ee71b7",
   "metadata": {},
   "outputs": [],
   "source": [
    "default_preprocess = T.Compose(\n",
    "                [\n",
    "                    T.LoadImaged(keys=[\"t2w\", \"adc\", \"hbv\", \"label\"], reader = ITKReader),\n",
    "                    T.EnsureChannelFirstd(keys=[\"t2w\", \"adc\", \"hbv\", \"label\"]),\n",
    "                    T.Orientationd(keys=[\"t2w\", \"adc\", \"hbv\", \"label\"], axcodes=\"RAS\"),\n",
    "                    T.Spacingd(\n",
    "                        keys=[\"t2w\", \"adc\", \"hbv\", \"label\"],\n",
    "                        pixdim=(0.5, 0.5, 1.2),\n",
    "                        mode=(\"bilinear\", \"bilinear\", \"bilinear\", \"nearest\"),\n",
    "                    ),\n",
    "                    T.NormalizeIntensityd(keys=[\"t2w\"], channel_wise=True),\n",
    "                    T.Resized(keys=[\"t2w\", \"adc\", \"hbv\", \"label\"], spatial_size=[512, 512, 32], mode=(\"area\",\"area\", \"area\", \"nearest\")),\n",
    "                    ConvertToBinaryLabeld(keys=[\"label\"]),\n",
    "            ]) "
   ]
  },
  {
   "cell_type": "code",
   "execution_count": 6,
   "id": "5649623b",
   "metadata": {},
   "outputs": [],
   "source": [
    "num_samples = 1\n",
    "augment =  T.Compose(\n",
    "                [\n",
    "                    T.RandCropByLabelClassesd(keys=[\"t2w\", \"adc\", \"hbv\", \"label\"], label_key = \"label\", spatial_size = [256, 256, 32],\n",
    "                                              num_classes = 2, num_samples = num_samples, ratios = [0.1, 1]),\n",
    "                    T.RandFlipd(keys=[\"t2w\", \"adc\", \"hbv\", \"label\"], prob=0.5, spatial_axis=0),\n",
    "                    T.RandFlipd(keys=[\"t2w\", \"adc\", \"hbv\", \"label\"], prob=0.5, spatial_axis=1),\n",
    "                    T.RandFlipd(keys=[\"t2w\", \"adc\", \"hbv\", \"label\"], prob=0.5, spatial_axis=2),\n",
    "                ]\n",
    "            )"
   ]
  },
  {
   "cell_type": "code",
   "execution_count": 7,
   "id": "3a9486d9",
   "metadata": {},
   "outputs": [],
   "source": [
    "transform=T.Compose([default_preprocess, augment])"
   ]
  },
  {
   "cell_type": "code",
   "execution_count": null,
   "id": "67306f82",
   "metadata": {},
   "outputs": [],
   "source": [
    "final_data = transform(data)"
   ]
  }
 ],
 "metadata": {
  "kernelspec": {
   "display_name": "Python (myenv)",
   "language": "python",
   "name": "myenv"
  },
  "language_info": {
   "codemirror_mode": {
    "name": "ipython",
    "version": 3
   },
   "file_extension": ".py",
   "mimetype": "text/x-python",
   "name": "python",
   "nbconvert_exporter": "python",
   "pygments_lexer": "ipython3",
   "version": "3.9.18"
  }
 },
 "nbformat": 4,
 "nbformat_minor": 5
}
