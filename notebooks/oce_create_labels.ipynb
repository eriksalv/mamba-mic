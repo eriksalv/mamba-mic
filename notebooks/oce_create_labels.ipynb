{
 "cells": [
  {
   "cell_type": "code",
   "execution_count": 1,
   "metadata": {},
   "outputs": [
    {
     "name": "stderr",
     "output_type": "stream",
     "text": [
      "[rank: 0] Seed set to 42\n"
     ]
    },
    {
     "data": {
      "text/plain": [
       "42"
      ]
     },
     "execution_count": 1,
     "metadata": {},
     "output_type": "execute_result"
    }
   ],
   "source": [
    "from data_modules.ocelot import OcelotDataModule\n",
    "from models.dynunet import DynUNetModel\n",
    "import monai.transforms as T\n",
    "from lightning.pytorch import seed_everything\n",
    "import torch\n",
    "from system import System\n",
    "from monai.inferers import SlidingWindowInferer\n",
    "from monai.metrics import (\n",
    "    DiceMetric,\n",
    "    HausdorffDistanceMetric,\n",
    ")\n",
    "import os\n",
    "from tqdm import tqdm\n",
    "import numpy as np\n",
    "import matplotlib.pyplot as plt\n",
    "from ocelot_util import normalize_crop_coords_batch\n",
    "import torch.nn as nn\n",
    "from torchvision.utils import save_image\n",
    "from torchvision.transforms.functional import to_pil_image\n",
    "\n",
    "seed_everything(42)"
   ]
  },
  {
   "cell_type": "code",
   "execution_count": 2,
   "metadata": {},
   "outputs": [
    {
     "name": "stdout",
     "output_type": "stream",
     "text": [
      "False\n"
     ]
    }
   ],
   "source": [
    "print(torch.cuda.is_available())"
   ]
  },
  {
   "cell_type": "code",
   "execution_count": 3,
   "metadata": {},
   "outputs": [
    {
     "name": "stderr",
     "output_type": "stream",
     "text": [
      "Attribute 'net' is an instance of `nn.Module` and is already saved during checkpointing. It is recommended to ignore them using `self.save_hyperparameters(ignore=['net'])`.\n"
     ]
    }
   ],
   "source": [
    "paths = ['./lightning_logs/4lsj3sdu/checkpoints/model-epoch=98-val_tissue_dice=0.75.ckpt', \n",
    "        './lightning_logs/sg9vsaxz/checkpoints/model-epoch=200-val_tissue_dice=0.80.ckpt',\n",
    "        './lightning_logs/m3ruzf72/checkpoints/model-epoch=149-val_tissue_dice=0.78.ckpt',\n",
    "        './lightning_logs/7jddlwlw/checkpoints/model-epoch=176-val_tissue_dice=0.85.ckpt',\n",
    "        './lightning_logs/3rmq2rbn/checkpoints/model-epoch=206-val_tissue_dice=0.85.ckpt']\n",
    "models = {}\n",
    "for i in range(5):\n",
    "    tissue_segmentation = System.load_from_checkpoint(checkpoint_path=paths[i])\n",
    "    tissue_inferer = SlidingWindowInferer(roi_size=(896, 896),\n",
    "            overlap=0.5, sw_batch_size= 1, mode= \"gaussian\")\n",
    "    models[f'fold_{i}'] = tissue_inferer"
   ]
  },
  {
   "cell_type": "code",
   "execution_count": 4,
   "metadata": {},
   "outputs": [
    {
     "name": "stdout",
     "output_type": "stream",
     "text": [
      "Train: 320 | Val: 80 | Test: 126\n",
      "Train: 320 | Val: 80 | Test: 126\n",
      "Train: 320 | Val: 80 | Test: 126\n",
      "Train: 320 | Val: 80 | Test: 126\n",
      "Train: 320 | Val: 80 | Test: 126\n"
     ]
    }
   ],
   "source": [
    "folds = {}\n",
    "\n",
    "for i in range(5):\n",
    "    data_module = OcelotDataModule(batch_size=1, num_workers=1, cv_folds=5, fold_index=i)\n",
    "    data_module.prepare_data()\n",
    "    data_module.setup()\n",
    "    folds[f'fold_{i}'] = data_module.val_dataloader()"
   ]
  },
  {
   "cell_type": "code",
   "execution_count": 5,
   "metadata": {},
   "outputs": [],
   "source": [
    "post_transform = T.Compose([\n",
    "    T.Activations(sigmoid=True, softmax=False),\n",
    "    T.AsDiscrete(threshold=0.5),\n",
    "])"
   ]
  },
  {
   "cell_type": "code",
   "execution_count": 6,
   "metadata": {},
   "outputs": [],
   "source": [
    "save_dir = \"data/ocelot_tissue/training_cropped_labels\"\n",
    "os.makedirs(save_dir, exist_ok=True)"
   ]
  },
  {
   "cell_type": "code",
   "execution_count": 7,
   "metadata": {},
   "outputs": [
    {
     "name": "stderr",
     "output_type": "stream",
     "text": [
      "Evaluating: 100%|██████████| 80/80 [20:13<00:00, 15.17s/it]\n",
      "Evaluating: 100%|██████████| 80/80 [20:34<00:00, 15.43s/it]\n",
      "Evaluating: 100%|██████████| 80/80 [20:43<00:00, 15.54s/it]\n",
      "Evaluating: 100%|██████████| 80/80 [20:52<00:00, 15.65s/it]\n",
      "Evaluating: 100%|██████████| 80/80 [20:54<00:00, 15.68s/it]\n"
     ]
    }
   ],
   "source": [
    "for i in range(5):\n",
    "    loader = folds[f'fold_{i}']\n",
    "    tissue_inferer = models[f'fold_{i}']\n",
    "    for j, batch in enumerate(tqdm(loader, desc=\"Evaluating\")):\n",
    "        img = batch[\"img_tissue\"]\n",
    "        pred = tissue_inferer(img, tissue_segmentation)\n",
    "        pred_post = post_transform(pred)\n",
    "        meta_batch = batch[\"meta\"]\n",
    "        id = meta_batch[\"sample_id\"][0]\n",
    "   \n",
    "        cropped_coords = normalize_crop_coords_batch(meta_batch)\n",
    "        \n",
    "        x1, y1, x2, y2 = cropped_coords[0]\n",
    "        tissue_crop = pred_post[0:1, :, y1:y2, x1:x2]\n",
    "        tissue_crop_resized = nn.functional.interpolate(tissue_crop, size=img.shape[2:], mode=\"bilinear\")\n",
    " \n",
    "        img_to_save = tissue_crop_resized.squeeze(0)  \n",
    "        img_pil = to_pil_image(img_to_save)\n",
    "\n",
    "        save_path = os.path.join(save_dir, f\"{id}.png\")\n",
    "        img_pil.save(save_path)\n",
    "        "
   ]
  }
 ],
 "metadata": {
  "kernelspec": {
   "display_name": ".venv",
   "language": "python",
   "name": "python3"
  },
  "language_info": {
   "codemirror_mode": {
    "name": "ipython",
    "version": 3
   },
   "file_extension": ".py",
   "mimetype": "text/x-python",
   "name": "python",
   "nbconvert_exporter": "python",
   "pygments_lexer": "ipython3",
   "version": "3.9.18"
  }
 },
 "nbformat": 4,
 "nbformat_minor": 2
}
